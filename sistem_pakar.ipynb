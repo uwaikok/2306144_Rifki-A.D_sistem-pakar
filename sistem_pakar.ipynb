{
  "nbformat": 4,
  "nbformat_minor": 0,
  "metadata": {
    "colab": {
      "provenance": []
    },
    "kernelspec": {
      "name": "python3",
      "display_name": "Python 3"
    },
    "language_info": {
      "name": "python"
    }
  },
  "cells": [
    {
      "cell_type": "code",
      "execution_count": 1,
      "metadata": {
        "colab": {
          "base_uri": "https://localhost:8080/"
        },
        "id": "VBTNOo3J46i4",
        "outputId": "e3dfc822-0d2b-46e5-8934-02f45a1507d6"
      },
      "outputs": [
        {
          "output_type": "stream",
          "name": "stdout",
          "text": [
            "Collecting experta\n",
            "  Downloading experta-1.9.4-py3-none-any.whl.metadata (5.0 kB)\n",
            "Collecting frozendict==1.2 (from experta)\n",
            "  Downloading frozendict-1.2.tar.gz (2.6 kB)\n",
            "  Preparing metadata (setup.py) ... \u001b[?25l\u001b[?25hdone\n",
            "Collecting schema==0.6.7 (from experta)\n",
            "  Downloading schema-0.6.7-py2.py3-none-any.whl.metadata (14 kB)\n",
            "Downloading experta-1.9.4-py3-none-any.whl (35 kB)\n",
            "Downloading schema-0.6.7-py2.py3-none-any.whl (14 kB)\n",
            "Building wheels for collected packages: frozendict\n",
            "  Building wheel for frozendict (setup.py) ... \u001b[?25l\u001b[?25hdone\n",
            "  Created wheel for frozendict: filename=frozendict-1.2-py3-none-any.whl size=3149 sha256=ac6d0107eac8b082a7b03828f64a7ec145285e5a12fabc6fcfa34a0c3677f0ea\n",
            "  Stored in directory: /root/.cache/pip/wheels/49/ac/f8/cb8120244e710bdb479c86198b03c7b08c3c2d3d2bf448fd6e\n",
            "Successfully built frozendict\n",
            "Installing collected packages: schema, frozendict, experta\n",
            "  Attempting uninstall: frozendict\n",
            "    Found existing installation: frozendict 2.4.6\n",
            "    Uninstalling frozendict-2.4.6:\n",
            "      Successfully uninstalled frozendict-2.4.6\n",
            "\u001b[31mERROR: pip's dependency resolver does not currently take into account all the packages that are installed. This behaviour is the source of the following dependency conflicts.\n",
            "yfinance 0.2.55 requires frozendict>=2.3.4, but you have frozendict 1.2 which is incompatible.\u001b[0m\u001b[31m\n",
            "\u001b[0mSuccessfully installed experta-1.9.4 frozendict-1.2 schema-0.6.7\n"
          ]
        }
      ],
      "source": [
        "!pip install experta"
      ]
    },
    {
      "cell_type": "code",
      "source": [
        "!pip install --upgrade frozendict"
      ],
      "metadata": {
        "colab": {
          "base_uri": "https://localhost:8080/"
        },
        "id": "Us4d6vF47tDl",
        "outputId": "3018498b-3c26-48ff-b00d-abaa1f72b552"
      },
      "execution_count": 2,
      "outputs": [
        {
          "output_type": "stream",
          "name": "stdout",
          "text": [
            "Requirement already satisfied: frozendict in /usr/local/lib/python3.11/dist-packages (1.2)\n",
            "Collecting frozendict\n",
            "  Downloading frozendict-2.4.6-py311-none-any.whl.metadata (23 kB)\n",
            "Downloading frozendict-2.4.6-py311-none-any.whl (16 kB)\n",
            "Installing collected packages: frozendict\n",
            "  Attempting uninstall: frozendict\n",
            "    Found existing installation: frozendict 1.2\n",
            "    Uninstalling frozendict-1.2:\n",
            "      Successfully uninstalled frozendict-1.2\n",
            "\u001b[31mERROR: pip's dependency resolver does not currently take into account all the packages that are installed. This behaviour is the source of the following dependency conflicts.\n",
            "experta 1.9.4 requires frozendict==1.2, but you have frozendict 2.4.6 which is incompatible.\u001b[0m\u001b[31m\n",
            "\u001b[0mSuccessfully installed frozendict-2.4.6\n"
          ]
        }
      ]
    },
    {
      "cell_type": "code",
      "source": [
        "\n",
        "from experta import *\n",
        "\n",
        "class Diagnosis(KnowledgeEngine):\n",
        "\n",
        "    @Rule(Fact(cough=True) & Fact(fever=True) & Fact(fatigue=True))\n",
        "    def flu(self):\n",
        "        print(\"Diagnosis: You may have the Flu.\")\n",
        "\n",
        "    @Rule(Fact(cough=True) & Fact(fever=True) & Fact(breathing_difficulty=True))\n",
        "    def pneumonia(self):\n",
        "        print(\"Diagnosis: You may have Pneumonia.\")\n",
        "\n",
        "    @Rule(Fact(sneezing=True) & Fact(runny_nose=True) & Fact(cough=False))\n",
        "    def cold(self):\n",
        "        print(\"Diagnosis: You may have a Common Cold.\")\n",
        "\n",
        "    @Rule(Fact(sore_throat=True) & Fact(Fever=True))\n",
        "    def throat_infection(self):\n",
        "        print(\"Diagnosis: You may have a Throat Infection.\")\n",
        "\n",
        "    @Rule(Fact(cough=False) & Fact(fever=False) & Fact(fatigue=False))\n",
        "    def healthy(self):\n",
        "        print(\"Diagnosis: You seem to be healthy.\")\n",
        "\n",
        "    @Rule(Fact(stomachache=True) & Fact(nausea=True), Fact(diarrhea=True))\n",
        "    def food_poisoning(self):\n",
        "        print(\"Diagnosis: You may have Food Poisoning.\")\n",
        "    @Rule(Fact(cough=True) & Fact(fever=True) & Fact(breathing_difficulty=True) & Fact(fatigue=True))\n",
        "def covid(self):\n",
        "    print(\"Diagnosis: You may have COVID-19.\")\n",
        "\n",
        "@Rule(Fact(cough=True) & Fact(breathing_difficulty=True) & Fact(fever=False))\n",
        "def asthma(self):\n",
        "    print(\"Diagnosis: You may have Asthma.\")\n",
        "\n",
        "@Rule(Fact(sore_throat=True) & Fact(fever=True) & Fact(cough=False))\n",
        "def tonsillitis(self):\n",
        "    print(\"Diagnosis: You may have Tonsillitis.\")\n",
        "\n",
        "@Rule(Fact(sneezing=True) & Fact(fever=False) & Fact(cough=False))\n",
        "def allergy(self):\n",
        "    print(\"Diagnosis: You may have an Allergy.\")\n",
        "\n",
        "def get_input():\n",
        "    \"\"\"Helper function to get user input as boolean (yes/no).\"\"\"\n",
        "    def ask_question(question):\n",
        "        return input(question + \" (yes/no): \").strip().lower() == \"yes\"\n",
        "\n",
        "    return {\n",
        "        \"cough\": ask_question(\"Do you have a cough?\"),\n",
        "        \"fever\": ask_question(\"Do you have a fever?\"),\n",
        "        \"fatigue\": ask_question(\"Do you feel fatigued?\"),\n",
        "        \"breathing_difficulty\": ask_question(\"Do you have breathing difficulties?\"),\n",
        "        \"sneezing\": ask_question(\"Are you sneezing?\"),\n",
        "        \"runny_nose\": ask_question(\"Do you have a runny nose?\"),\n",
        "        \"sore_throat\": ask_question(\"Do you have a sore throat?\"),\n",
        "        \"stomachache\": ask_question(\"apakah anda sakit perut?\"),\n",
        "        \"nausea\": ask_question(\"apakah apakah anda mual?\"),\n",
        "        \"diarrhea\": ask_question(\"apakah anda diare?\")\n",
        "    }\n",
        "\n",
        "# Running the Expert System\n",
        "if __name__ == \"__main__\":\n",
        "    symptoms = get_input()\n",
        "    engine = Diagnosis()\n",
        "    engine.reset()  # Reset the knowledge engine\n",
        "\n",
        "    for symptom, present in symptoms.items():\n",
        "        engine.declare(Fact(**{symptom: present}))  # Declare facts\n",
        "\n",
        "    engine.run()  # Run the inference engine"
      ],
      "metadata": {
        "id": "6zq3SyjG7y2h"
      },
      "execution_count": null,
      "outputs": []
    },
    {
      "cell_type": "code",
      "source": [
        "# from experta import *\n",
        "\n",
        "# class CareerAdvisor(KnowledgeEngine):\n",
        "\n",
        "#     @Rule(Fact(logic=True) & Fact(math=True) & Fact(coding=True))\n",
        "#     def software_engineer(self):\n",
        "#         print(\"Recommended Career: Software Engineer\")\n",
        "\n",
        "#     @Rule(Fact(creative=True) & Fact(art=True) & Fact(tech=True))\n",
        "#     def graphic_designer(self):\n",
        "#         print(\"Recommended Career: Graphic Designer\")\n",
        "\n",
        "#     @Rule(Fact(social=True) & Fact(communication=True) & Fact(negotiation=True))\n",
        "#     def sales_manager(self):\n",
        "#         print(\"Recommended Career: Sales Manager\")\n",
        "\n",
        "#     @Rule(Fact(science=True) & Fact(problem_solving=True) & Fact(research=True))\n",
        "#     def scientist(self):\n",
        "#         print(\"Recommended Career: Scientist\")\n",
        "\n",
        "#     @Rule(Fact(helping_people=True) & Fact(medical=True) & Fact(science=True))\n",
        "#     def doctor(self):\n",
        "#         print(\"Recommended Career: Doctor\")\n",
        "\n",
        "#     @Rule(Fact(leadership=True) & Fact(management=True) & Fact(decision_making=True))\n",
        "#     def business_manager(self):\n",
        "#         print(\"Recommended Career: Business Manager\")\n",
        "\n",
        "#     @Rule(Fact(logic=False) & Fact(creative=False) & Fact(social=False) & Fact(science=False))\n",
        "#     def undecided(self):\n",
        "#         print(\"No strong career recommendation. Explore different fields!\")\n",
        "\n",
        "# def get_input():\n",
        "#     \"\"\"Helper function to get user input as boolean (yes/no).\"\"\"\n",
        "#     def ask_question(question):\n",
        "#         return input(question + \" (yes/no): \").strip().lower() == \"yes\"\n",
        "\n",
        "#     return {\n",
        "#         \"logic\": ask_question(\"Do you enjoy logical thinking?\"),\n",
        "#         \"math\": ask_question(\"Are you good at mathematics?\"),\n",
        "#         \"coding\": ask_question(\"Do you like programming?\"),\n",
        "#         \"creative\": ask_question(\"Are you a creative person?\"),\n",
        "#         \"art\": ask_question(\"Do you like art and design?\"),\n",
        "#         \"tech\": ask_question(\"Are you interested in technology?\"),\n",
        "#         \"social\": ask_question(\"Do you like interacting with people?\"),\n",
        "#         \"communication\": ask_question(\"Are you good at communication?\"),\n",
        "#         \"negotiation\": ask_question(\"Do you enjoy negotiating?\"),\n",
        "#         \"science\": ask_question(\"Are you interested in science?\"),\n",
        "#         \"problem_solving\": ask_question(\"Do you like solving complex problems?\"),\n",
        "#         \"research\": ask_question(\"Do you enjoy research?\"),\n",
        "#         \"helping_people\": ask_question(\"Do you like helping others?\"),\n",
        "#         \"medical\": ask_question(\"Are you interested in the medical field?\"),\n",
        "#         \"leadership\": ask_question(\"Do you have leadership skills?\"),\n",
        "#         \"management\": ask_question(\"Are you good at management?\"),\n",
        "#         \"decision_making\": ask_question(\"Are you confident in making decisions?\")\n",
        "#     }\n",
        "\n",
        "# # Running the Expert System\n",
        "# if __name__ == \"__main__\":\n",
        "#     user_answers = get_input()\n",
        "#     advisor = CareerAdvisor()\n",
        "#     advisor.reset()  # Reset the knowledge engine\n",
        "\n",
        "#     for trait, present in user_answers.items():\n",
        "#         advisor.declare(Fact(**{trait: present}))  # Declare facts\n",
        "\n",
        "#     advisor.run()  # Run the inference engine\n"
      ],
      "metadata": {
        "id": "sXG0FGEG8AOP"
      },
      "execution_count": null,
      "outputs": []
    },
    {
      "cell_type": "code",
      "source": [
        "from experta import *\n",
        "\n",
        "class SistemPakarMedis(KnowledgeEngine):\n",
        "\n",
        "    @Rule(Fact(demam=True) & Fact(batuk=True))\n",
        "    def flu(self):\n",
        "        print(\"Diagnosis: Flu.\")\n",
        "\n",
        "    @Rule(Fact(sakit_tengorokan=True) & Fact(demam=True))\n",
        "    def throat_infection(self):\n",
        "        print(\"Diagnosis: Radang Tengorokan.\")\n",
        "\n",
        "    @Rule(Fact(nyeri_otot=True) & Fact(nyeri_perut=True))\n",
        "    def hernia(self):\n",
        "      print(\"Diagnosis: Hernia. Innalillahi\")\n",
        "\n",
        "    @Rule(Fact(kanker=True) & Fact(tbc=True) & Fact(tipus=True) & Fact(tumor=True))\n",
        "    def mati(self):\n",
        "      print(\"maot didinya mah\")\n",
        "\n",
        "# Running the Expert System\n",
        "engine = SistemPakarMedis()\n",
        "engine.reset()\n",
        "engine.declare(Fact(kanker=True))\n",
        "engine.declare(Fact(tbc=True))\n",
        "engine.declare(Fact(tipus=True))\n",
        "engine.declare(Fact(tumor=True))  # Input symptoms\n",
        "engine.run()\n"
      ],
      "metadata": {
        "id": "iNCHyvlK8WS5"
      },
      "execution_count": null,
      "outputs": []
    },
    {
      "cell_type": "code",
      "source": [
        "Fafrom experta import *\n",
        "\n",
        "class Pendaftar(Fact):\n",
        "    \"\"\"Applicant details for loan checking.\"\"\"\n",
        "    pass\n",
        "\n",
        "class SistemPakarPinjamanBank(KnowledgeEngine):\n",
        "    @Rule(Pendaftar(pendapatan='tinggi'), Pendaftar(kredit='bagus'))\n",
        "    def eligible(self):\n",
        "        print(\"Decision: Anda Memenuhi Syarat untuk Mendapatkan Pinjaman.\")\n",
        "\n",
        "    @Rule(OR(Pendaftar(pendapatan='rendah'), Pendaftar(kredit='buruk')))\n",
        "    def not_eligible(self):\n",
        "        print(\"Decision: Anda Tidak Memenuhi Syarat untuk Mendapatkan Pinjaman.\")\n",
        "\n",
        "engine = SistemPakarPinjamanBank()\n",
        "engine.reset()\n",
        "\n",
        "# Insert applicant's details\n",
        "engine.declare(Pendaftar(pendapatan='tinggi'))\n",
        "engine.declare(Pendaftar(kredit='buruk'))\n",
        "\n",
        "engine.run()"
      ],
      "metadata": {
        "id": "X02ToJUy8mrp"
      },
      "execution_count": null,
      "outputs": []
    },
    {
      "cell_type": "code",
      "source": [
        "def forward_chaining(facts, rules):\n",
        "    inferred = set(facts)\n",
        "    changed = True\n",
        "\n",
        "    while changed:\n",
        "        changed = False\n",
        "        for rule in rules:\n",
        "            if rule[\"if\"].issubset(inferred) and rule[\"then\"] not in inferred:\n",
        "                inferred.add(rule[\"then\"])\n",
        "                changed = True\n",
        "    return inferred\n",
        "\n",
        "facts = {\"has_feathers\", \"has_beak\"}\n",
        "rules = [\n",
        "    {\"if\": {\"has_feathers\", \"has_beak\"}, \"then\": \"is_bird\"},\n",
        "    {\"if\": {\"lays_eggs\", \"is_bird\"}, \"then\": \"is_chicken\"},\n",
        "    {\"if\": {\"cannot_fly\", \"is_bird\"}, \"then\": \"is_penguin\"},\n",
        "    {\"if\": {\"carnivore\", \"is_bird\"}, \"then\": \"is_eagle\"}\n",
        "]\n",
        "\n",
        "result = forward_chaining(facts, rules)\n",
        "print(\"Inferred facts:\", result)\n"
      ],
      "metadata": {
        "id": "nBThxKZK8ocQ"
      },
      "execution_count": null,
      "outputs": []
    },
    {
      "cell_type": "code",
      "source": [
        "from experta import *\n",
        "\n",
        "class CareerExpert(KnowledgeEngine):\n",
        "\n",
        "    @Rule(Fact(career=\"Software Engineer\"),\n",
        "          Fact(logic=True), Fact(math=True), Fact(coding=True))\n",
        "    def software_engineer(self):\n",
        "        print(\"You qualify to be a Software Engineer!\")\n",
        "\n",
        "    @Rule(Fact(career=\"Doctor\"),\n",
        "          Fact(medical=True), Fact(science=True), Fact(problem_solving=True))\n",
        "    def doctor(self):\n",
        "        print(\"You qualify to be a Doctor!\")\n",
        "\n",
        "# Running the Expert System\n",
        "engine = CareerExpert()\n",
        "engine.reset()\n",
        "\n",
        "# Set a goal: Check if the user can be a Software Engineer\n",
        "engine.declare(Fact(career=\"Doctor\"))\n",
        "engine.declare(Fact(medical=True))\n",
        "engine.declare(Fact(science=True))\n",
        "engine.declare(Fact(problem_solving=True))  # Skills possessed\n",
        "\n",
        "engine.run()"
      ],
      "metadata": {
        "id": "r3386uKC8u7y"
      },
      "execution_count": null,
      "outputs": []
    },
    {
      "cell_type": "code",
      "source": [
        "def backward_chaining(goal, facts, rules):\n",
        "    if goal in facts:\n",
        "        return True\n",
        "    for rule in rules:\n",
        "        if rule[\"then\"] == goal:\n",
        "            if all(backward_chaining(cond, facts, rules) for cond in rule[\"if\"]):\n",
        "                return True\n",
        "    return False\n",
        "\n",
        "facts = {\"likes_computers\", \"solves_problems\", \"likes_to_manage_data\"}\n",
        "rules = [\n",
        "    {\"if\": {\"likes_computers\", \"solves_problems\"}, \"then\": \"should_be_engineer\"},\n",
        "    {\"if\": {\"should_be_engineer\", \"likes_programming\"}, \"then\": \"software_engineer\"},\n",
        "    {\"if\": {\"should_be_engineer\", \"likes_to_design\"}, \"then\": \"UI/UX_engineer\"},\n",
        "    {\"if\": {\"should_be_engineer\", \"likes_to_manage_data\"}, \"then\": \"data_engineer\"}\n",
        "]\n",
        "\n",
        "goal = \"data_engineer\"\n",
        "result = backward_chaining(goal, facts, rules)\n",
        "print(f\"Is '{goal}' provable? ->\", result)\n"
      ],
      "metadata": {
        "id": "PM_yGcZ68-dS"
      },
      "execution_count": null,
      "outputs": []
    },
    {
      "cell_type": "code",
      "source": [
        "def forward_chaining(facts, rules):\n",
        "    inferred = set(facts)\n",
        "    changed = True\n",
        "\n",
        "    while changed:\n",
        "        changed = False\n",
        "        for rule in rules:\n",
        "            if rule[\"if\"].issubset(inferred) and rule[\"then\"] not in inferred:\n",
        "                inferred.add(rule[\"then\"])\n",
        "                changed = True\n",
        "    return inferred\n",
        "\n"
      ],
      "metadata": {
        "id": "iNuipaYa9Alm"
      },
      "execution_count": null,
      "outputs": []
    },
    {
      "cell_type": "code",
      "source": [
        "def forward_chaining(facts, rules):\n",
        "    inferred = set(facts)\n",
        "    changed = True\n",
        "\n",
        "    while changed:\n",
        "        changed = False\n",
        "        for rule in rules:\n",
        "            if rule[\"if\"].issubset(inferred) and rule[\"then\"] not in inferred:\n",
        "                inferred.add(rule[\"then\"])\n",
        "                changed = True\n",
        "    return inferred\n",
        "\n",
        "\n",
        "\n"
      ],
      "metadata": {
        "id": "g968VyDP9Ldl"
      },
      "execution_count": null,
      "outputs": []
    },
    {
      "cell_type": "code",
      "source": [
        "def backward_chaining(goal, facts, rules):\n",
        "    if goal in facts:\n",
        "        return True\n",
        "    for rule in rules:\n",
        "        if rule[\"then\"] == goal:\n",
        "            if all(backward_chaining(cond, facts, rules) for cond in rule[\"if\"]):\n",
        "                return True\n",
        "    return False\n",
        "\n"
      ],
      "metadata": {
        "id": "lY9rkXNP9QPs"
      },
      "execution_count": null,
      "outputs": []
    }
  ]
}